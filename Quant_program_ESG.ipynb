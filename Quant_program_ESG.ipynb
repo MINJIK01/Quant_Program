{
 "cells": [
  {
   "cell_type": "markdown",
   "id": "6be6242c",
   "metadata": {},
   "source": [
    "# ESG점수를 반영한 함수 제작"
   ]
  },
  {
   "cell_type": "code",
   "execution_count": 1,
   "id": "c09d5f41",
   "metadata": {},
   "outputs": [],
   "source": [
    "# 라이브러리 불러오기\n",
    "import pandas as pd\n",
    "import numpy as np"
   ]
  },
  {
   "cell_type": "code",
   "execution_count": 2,
   "id": "27f0fec8",
   "metadata": {},
   "outputs": [],
   "source": [
    "PBR_origin = pd.read_csv('PBR_Kospi.csv', encoding = \"ANSI\")\n",
    "PER_origin = pd.read_csv('PER_Kospi.csv', encoding = \"ANSI\")\n",
    "# 월간 수익률 데이터 가져오기\n",
    "profit = pd.read_csv('코스피_월간수익률.csv', encoding = \"UTF-8\")\n",
    "\n",
    "# 한국은행 금리 데이터\n",
    "interest = pd.read_csv('Interest rate.csv', encoding = \"UTF-8\")\n",
    "\n",
    "# 종가 데이터 가져오기\n",
    "closings = pd.read_csv('코스피_종가.csv', encoding = \"UTF-8\")"
   ]
  },
  {
   "cell_type": "code",
   "execution_count": 3,
   "id": "be03546b",
   "metadata": {
    "scrolled": true
   },
   "outputs": [],
   "source": [
    "esg = pd.read_csv('ESG_data.csv', encoding = \"UTF-8\")"
   ]
  },
  {
   "cell_type": "code",
   "execution_count": 4,
   "id": "d26f6a1a",
   "metadata": {},
   "outputs": [],
   "source": [
    "# 데이터 선별에 이용할 컬럼명 추출\n",
    "PBR_list = PBR_origin.columns\n",
    "PER_list = PER_origin.columns"
   ]
  },
  {
   "cell_type": "code",
   "execution_count": 5,
   "id": "408fc98f",
   "metadata": {},
   "outputs": [],
   "source": [
    "# 필요없는 행 삭제\n",
    "esg = esg.iloc[6:,:]\n",
    "\n",
    "# 행열 전환및 컬럼명 재지정\n",
    "esg = esg.transpose()\n",
    "esg = esg.rename(columns=esg.iloc[0])\n",
    "esg = esg.reset_index(drop=True)\n",
    "esg = esg.iloc[1:,:]\n",
    "\n",
    "# 불필요한 열 삭제\n",
    "esg.drop(labels=['Code', 'Item Code', 'Unit', 'Base Date', 'D A T E'],axis=1, inplace = True)"
   ]
  },
  {
   "cell_type": "code",
   "execution_count": 6,
   "id": "c80d0d33",
   "metadata": {},
   "outputs": [],
   "source": [
    "# 필요없는 행 삭제\n",
    "profit = profit.iloc[6:,:]\n",
    "\n",
    "# 행열 전환및 컬럼명 재지정\n",
    "profit = profit.transpose()\n",
    "profit = profit.rename(columns=profit.iloc[0])\n",
    "profit = profit.reset_index(drop=True)\n",
    "profit = profit.iloc[1:,:]\n",
    "\n",
    "# 불필요한 열 삭제\n",
    "profit.drop(labels=['Code', 'Item Code', 'Unit', 'Base Date', 'D A T E'],axis=1, inplace = True)"
   ]
  },
  {
   "cell_type": "code",
   "execution_count": 7,
   "id": "7880028d",
   "metadata": {},
   "outputs": [],
   "source": [
    "# 불필요한 행 삭제\n",
    "closings = closings.iloc[6:,:]\n",
    "\n",
    "# 행열 전환및 컬럼명 재지정\n",
    "closings = closings.transpose()\n",
    "closings = closings.rename(columns=closings.iloc[0])\n",
    "closings = closings.reset_index(drop=True)\n",
    "closings = closings.iloc[1:,:]\n",
    "\n",
    "# 필요없는 열 삭제\n",
    "closings.drop(labels=['Item Code', 'Unit', 'Base Date', 'D A T E'],axis=1, inplace = True)"
   ]
  },
  {
   "cell_type": "code",
   "execution_count": 8,
   "id": "a2225d09",
   "metadata": {},
   "outputs": [],
   "source": [
    "# 기준금리만 추출\n",
    "interest = pd.DataFrame(interest.iloc[6,:])\n",
    "interest = interest.transpose()"
   ]
  },
  {
   "cell_type": "code",
   "execution_count": 19,
   "id": "df521086",
   "metadata": {},
   "outputs": [],
   "source": [
    "index= pd.DataFrame(PBR_origin['기업명'], columns = ['기업명']) \n",
    "\n",
    "# 최종 이익 계산을 위한 기업명 데이터 프레임\n",
    "final_profit= pd.DataFrame(PBR_origin['기업명'], columns = ['기업명']) \n",
    "\n",
    "# 그래프 생성을 위한 데이터 프레임\n",
    "glist = list()"
   ]
  },
  {
   "cell_type": "markdown",
   "id": "d47b6703",
   "metadata": {},
   "source": [
    "### 수익률 비율 고려"
   ]
  },
  {
   "cell_type": "code",
   "execution_count": 20,
   "id": "3ab41595",
   "metadata": {},
   "outputs": [],
   "source": [
    "def quant(i):\n",
    "    global k\n",
    "    global final_profit\n",
    "    global hand\n",
    "    global invest_money_for_hand\n",
    "    global n\n",
    "    global glist\n",
    "    \n",
    "    check = 0\n",
    "    spare_money = 0\n",
    "    \n",
    "    if i >= 73:\n",
    "        esg_index = esg[esg.iloc[:, n].apply(int) == 0].index\n",
    "        print(len(esg_index))\n",
    "        \n",
    "        PBR_drop = PBR_origin.drop(esg_index)\n",
    "        PER_drop = PER_origin.drop(esg_index)\n",
    "    else:\n",
    "        PBR_drop = PBR_origin\n",
    "        PER_drop = PER_origin\n",
    "    \n",
    "    \n",
    "    # PBR 순위매기기\n",
    "    PBR_drop[PBR_list[i]] = PBR_drop[PBR_list[i]].apply(lambda x : np.nan if x < 0 else x) # 0보다 작은 값 NA처리\n",
    "    PBR_del_na = PBR_drop.iloc[:, [0, i]].dropna() # NA값 삭제\n",
    "    rank_PBR = PBR_del_na\n",
    "    rank_PBR['rank'] = PBR_del_na.iloc[:,1].rank(method='min') #순위 매기기\n",
    "    \n",
    "    # PER 순위매기기\n",
    "    PER_drop[PER_list[i]] = PER_drop[PER_list[i]].apply(lambda x : np.nan if x < 0 else x) # 0보다 작은 값 NA처리\n",
    "    PER_del_na = PER_drop.iloc[:, [0, i]].dropna() # NA값 삭제\n",
    "    rank_PER = PER_del_na\n",
    "    rank_PER['rank'] = PER_del_na.iloc[:,1].rank(method='min') #순위 매기기\n",
    "    \n",
    "    # 두 데이터 프레임 합치기\n",
    "    rank_all = pd.merge(rank_PBR, rank_PER, on = '기업명', how = 'left') # PBR & PER dateframe 합치기\n",
    "    \n",
    "    # PBR + PER 값으로 순위 정렬\n",
    "    rank_all['rank_all'] = rank_all['rank_x'] + rank_all['rank_y']\n",
    "    rank_all = rank_all.iloc[:,[0,5]].sort_values(by='rank_all' ,ascending=True)\n",
    "\n",
    "    # 50개 기업 추출\n",
    "    rank_all = rank_all.iloc[0:50,:]\n",
    "    \n",
    "    # 기업명 추출\n",
    "    profit_year = profit.iloc[:, 0:1].dropna()\n",
    "    \n",
    "    if i >= 73:\n",
    "        profit_year.drop(esg_index, inplace = True)\n",
    "    profit_year.rename(columns = {'Name' : \"기업명\"}, inplace =True)\n",
    "    \n",
    "    # 일 년 수익률 데이터 프레임 합치기\n",
    "    profit_year = pd.concat([profit_year,profit.iloc[:, i+1:i+13]],axis=1)\n",
    "    \n",
    "    # 모멘텀 계산\n",
    "    profit_year['momentum'] = ((profit_year.iloc[:,1].apply(lambda x : float(x) - 1).fillna(1))*(profit_year.iloc[:,2].apply(lambda x : float(x) - 1).fillna(1))*\n",
    "                          (profit_year.iloc[:,3].apply(lambda x : float(x) - 1).fillna(1))*(profit_year.iloc[:,4].apply(lambda x : float(x) - 1).fillna(1))*\n",
    "                          (profit_year.iloc[:,5].apply(lambda x : float(x) - 1).fillna(1))*(profit_year.iloc[:,6].apply(lambda x : float(x) - 1).fillna(1))*\n",
    "                          (profit_year.iloc[:,7].apply(lambda x : float(x) - 1).fillna(1))*(profit_year.iloc[:,8].apply(lambda x : float(x) - 1).fillna(1))*\n",
    "                          (profit_year.iloc[:,9].apply(lambda x : float(x) - 1).fillna(1))*(profit_year.iloc[:,10].apply(lambda x : float(x) - 1).fillna(1))*\n",
    "                          (profit_year.iloc[:,11].apply(lambda x : float(x) - 1).fillna(1))*(profit_year.iloc[:,12].apply(lambda x : float(x) - 1).fillna(1) - 1))\n",
    "    \n",
    "    # 모멘텀만 따로 추출\n",
    "    momentum = profit_year.iloc[:, [0, 13]]\n",
    "    \n",
    "    # PBR 및 PER 순위와 모멘텀 데이터 프레임 합치기\n",
    "    profit_rank = pd.merge(rank_all, momentum, on = '기업명', how = 'left')\n",
    "    \n",
    "    \n",
    "    # momentum이 기준금리보다 작을 경우 NAN값으로 변환\n",
    "    profit_rank['momentum'] = profit_rank['momentum'].apply(lambda x : np.nan if float(x) < interest.iloc[0, i] else x)\n",
    "    profit_rank = profit_rank.dropna()\n",
    "    \n",
    "    # 모멘텀 상위 10개 추출\n",
    "    profit_rank = profit_rank.sort_values(by='momentum' ,ascending=False).iloc[:10, :]\n",
    "\n",
    "    # 최근 1년간 수익률 비율 확인\n",
    "    profit_year = pd.merge(profit_year, profit_rank.iloc[:,0], left_on='기업명', right_on='기업명', how='inner')\n",
    "\n",
    "    # 수익률이 마이너스일 경우 -1 수익률이 플러스일 경우 1 할당\n",
    "    for j in range(1,13):\n",
    "        profit_year.iloc[:,j] = profit_year.iloc[:,j].apply(lambda x : -1 if float(x) < 0 else 1)\n",
    "    \n",
    "    # 걸러진 기업을 저장할 데이터 프레임 생성\n",
    "    drop_low_interest = profit_year.iloc[:,0]\n",
    "    \n",
    "    # 기업의 열 합계가 1보다 작을 경우 행을 탈락시킨다\n",
    "    for h in range(len(profit_year.iloc[:,0])):\n",
    "        if profit_year.iloc[h,1:13].apply(int).sum() <= -1:\n",
    "            drop_low_interest = pd.merge(drop_low_interest, profit_year.drop(h, axis = 0), left_on='기업명', right_on='기업명', how='inner')\n",
    "            check = 1\n",
    "    \n",
    "    if check == 0:\n",
    "        drop_low_interest = pd.merge(drop_low_interest, profit_year, left_on='기업명', right_on='기업명', how='inner')\n",
    "        \n",
    "    # 해당 년 종가 데이터 가져오기\n",
    "    closings_year = closings.iloc[:, [1,i+2]]\n",
    "    \n",
    "    # 인덱스 열이름 같게 설정\n",
    "    closings_year.rename(columns = {'Name' : \"기업명\"}, inplace =True)\n",
    "    \n",
    "    # 모멘텀 상위 10개 기업 데이터프레임과 해당년 종가 데이터프레임 merge\n",
    "    closings_year_10 = pd.merge(drop_low_interest.iloc[:, 0:3], closings_year, on = '기업명', how = 'left')\n",
    "    \n",
    "    # 각 항목당 50억씩 투자하여 몇 주씩 샀는지 남은 금액은 얼마인지 저장 (처음만 50억을 기본금으로)  \n",
    "    if i == 1:\n",
    "        if len(closings_year_10.iloc[:,0]) == 0:\n",
    "            hand = 50000000000\n",
    "        else:\n",
    "            hand = 50000000000 -  (5000000000 * len(closings_year_10.iloc[:,0]))\n",
    "            print(\"처음에 저장된 돈: \" + str(hand))\n",
    "        \n",
    "        closings_year_10['invest'] = closings_year_10.iloc[:, 3].apply(lambda x: int(5000000000 / int(x.replace(',', ''))))\n",
    "        closings_year_10['rest_money'] = closings_year_10.iloc[:, 3].apply(lambda x: 5000000000 % int(x.replace(',', '')))\n",
    "    else:    \n",
    "        # NA값이 없는 기업명 추출\n",
    "        #print(final_profit)\n",
    "        index_list = final_profit.iloc[:,2*k - 1].dropna(axis = 0)\n",
    "        #print(index_list)\n",
    "        index_list = index_list.index\n",
    "        \n",
    "        # 기존의 주식을 팔고 새 주식을 삼.\n",
    "        for b in range(len(index_list)):\n",
    "            #기업의 해당 년 종가 데이터 가져오기\n",
    "            stock_price = closings_year.loc[(closings_year['기업명'] == final_profit.iloc[int(index_list[b]), 0])]\n",
    "\n",
    "            # 겹치지 않는 종목 판매 후 투자 원금에 회수\n",
    "            spare_money += int(final_profit.iloc[int(index_list[b]), 2*k -1]) *int(stock_price.iloc[0,1].replace(',',''))  + int(final_profit.iloc[int(index_list[b]), 2*k])\n",
    "        \n",
    "        print(\"판매 금액: \" + str(spare_money))\n",
    "        \n",
    "       \n",
    "        spare_money += hand\n",
    "        \n",
    "        print(\"다음 투자 후 저장된 돈: \" + str(spare_money))\n",
    "        glist.append(spare_money)\n",
    "        # 돈 10등분\n",
    "        if len(closings_year_10.iloc[:,0]) == 0:\n",
    "            invest_money_for_hand = spare_money\n",
    "            invest_money = 0\n",
    "        else:\n",
    "            if len(index_list) == 0:\n",
    "                invest_money = invest_money_for_hand + spare_money\n",
    "                \n",
    "            invest_money = int(spare_money / 10)\n",
    "            hand = invest_money*(10 - len(closings_year_10.iloc[:,0]))\n",
    "            print(\"해단 년도 투자하고 남은 돈 \" + str(hand))\n",
    "        \n",
    "        closings_year_10['invest'] = closings_year_10.iloc[:, 3].apply(lambda x: int(invest_money / int(x.replace(',', ''))))\n",
    "        closings_year_10['rest_money'] = closings_year_10.iloc[:, 3].apply(lambda x: invest_money % int(x.replace(',', '')))           \n",
    "        \n",
    "    closings_year_10.drop(closings_year_10.columns[1], axis = 1, inplace = True)\n",
    "    \n",
    "    # 최종 수익률 계산 위한 데이터 프레임 제작\n",
    "    profit_whole = index\n",
    "    profit_whole_update = pd.merge(profit_whole, closings_year_10, on = '기업명', how = 'left')\n",
    "    \n",
    "    # invest와 rest 열만 남기기\n",
    "    profit_whole_update = profit_whole_update.iloc[:, 3:5]\n",
    "    \n",
    "    final_profit = pd.concat([final_profit, profit_whole_update], axis = 1)\n",
    "    "
   ]
  },
  {
   "cell_type": "code",
   "execution_count": 21,
   "id": "1a8320ea",
   "metadata": {},
   "outputs": [],
   "source": [
    "global k\n",
    "k = 0\n",
    "\n",
    "global n\n",
    "n = 2"
   ]
  },
  {
   "cell_type": "code",
   "execution_count": 22,
   "id": "fb316a1d",
   "metadata": {
    "scrolled": true
   },
   "outputs": [
    {
     "name": "stdout",
     "output_type": "stream",
     "text": [
      "=====================start===========1=================================\n",
      "처음에 저장된 돈: 5000000000\n",
      "================================1=================================\n",
      "=====================start===========4=================================\n",
      "판매 금액: 49206990005\n",
      "다음 투자 후 저장된 돈: 54206990005\n",
      "해단 년도 투자하고 남은 돈 5420699000\n",
      "================================4=================================\n",
      "=====================start===========7=================================\n",
      "판매 금액: 56276478890\n",
      "다음 투자 후 저장된 돈: 61697177890\n",
      "해단 년도 투자하고 남은 돈 12339435578\n",
      "================================7=================================\n",
      "=====================start===========10=================================\n"
     ]
    },
    {
     "name": "stderr",
     "output_type": "stream",
     "text": [
      "C:\\Users\\user\\anaconda3\\lib\\site-packages\\pandas\\core\\frame.py:4441: SettingWithCopyWarning: \n",
      "A value is trying to be set on a copy of a slice from a DataFrame\n",
      "\n",
      "See the caveats in the documentation: https://pandas.pydata.org/pandas-docs/stable/user_guide/indexing.html#returning-a-view-versus-a-copy\n",
      "  return super().rename(\n",
      "C:\\Users\\user\\anaconda3\\lib\\site-packages\\pandas\\core\\frame.py:4441: SettingWithCopyWarning: \n",
      "A value is trying to be set on a copy of a slice from a DataFrame\n",
      "\n",
      "See the caveats in the documentation: https://pandas.pydata.org/pandas-docs/stable/user_guide/indexing.html#returning-a-view-versus-a-copy\n",
      "  return super().rename(\n",
      "C:\\Users\\user\\anaconda3\\lib\\site-packages\\pandas\\core\\frame.py:4441: SettingWithCopyWarning: \n",
      "A value is trying to be set on a copy of a slice from a DataFrame\n",
      "\n",
      "See the caveats in the documentation: https://pandas.pydata.org/pandas-docs/stable/user_guide/indexing.html#returning-a-view-versus-a-copy\n",
      "  return super().rename(\n",
      "C:\\Users\\user\\anaconda3\\lib\\site-packages\\pandas\\core\\frame.py:4441: SettingWithCopyWarning: \n",
      "A value is trying to be set on a copy of a slice from a DataFrame\n",
      "\n",
      "See the caveats in the documentation: https://pandas.pydata.org/pandas-docs/stable/user_guide/indexing.html#returning-a-view-versus-a-copy\n",
      "  return super().rename(\n"
     ]
    },
    {
     "name": "stdout",
     "output_type": "stream",
     "text": [
      "판매 금액: 62350845942\n",
      "다음 투자 후 저장된 돈: 74690281520\n",
      "해단 년도 투자하고 남은 돈 29876112608\n",
      "================================10=================================\n",
      "=====================start===========13=================================\n",
      "판매 금액: 59980213182\n",
      "다음 투자 후 저장된 돈: 89856325790\n",
      "해단 년도 투자하고 남은 돈 0\n",
      "================================13=================================\n",
      "=====================start===========16=================================\n",
      "판매 금액: 89846902505\n",
      "다음 투자 후 저장된 돈: 89846902505\n",
      "해단 년도 투자하고 남은 돈 26954070750\n",
      "================================16=================================\n",
      "=====================start===========19=================================\n"
     ]
    },
    {
     "name": "stderr",
     "output_type": "stream",
     "text": [
      "C:\\Users\\user\\anaconda3\\lib\\site-packages\\pandas\\core\\frame.py:4441: SettingWithCopyWarning: \n",
      "A value is trying to be set on a copy of a slice from a DataFrame\n",
      "\n",
      "See the caveats in the documentation: https://pandas.pydata.org/pandas-docs/stable/user_guide/indexing.html#returning-a-view-versus-a-copy\n",
      "  return super().rename(\n",
      "C:\\Users\\user\\anaconda3\\lib\\site-packages\\pandas\\core\\frame.py:4441: SettingWithCopyWarning: \n",
      "A value is trying to be set on a copy of a slice from a DataFrame\n",
      "\n",
      "See the caveats in the documentation: https://pandas.pydata.org/pandas-docs/stable/user_guide/indexing.html#returning-a-view-versus-a-copy\n",
      "  return super().rename(\n",
      "C:\\Users\\user\\anaconda3\\lib\\site-packages\\pandas\\core\\frame.py:4441: SettingWithCopyWarning: \n",
      "A value is trying to be set on a copy of a slice from a DataFrame\n",
      "\n",
      "See the caveats in the documentation: https://pandas.pydata.org/pandas-docs/stable/user_guide/indexing.html#returning-a-view-versus-a-copy\n",
      "  return super().rename(\n",
      "C:\\Users\\user\\anaconda3\\lib\\site-packages\\pandas\\core\\frame.py:4441: SettingWithCopyWarning: \n",
      "A value is trying to be set on a copy of a slice from a DataFrame\n",
      "\n",
      "See the caveats in the documentation: https://pandas.pydata.org/pandas-docs/stable/user_guide/indexing.html#returning-a-view-versus-a-copy\n",
      "  return super().rename(\n"
     ]
    },
    {
     "name": "stdout",
     "output_type": "stream",
     "text": [
      "판매 금액: 70209519530\n",
      "다음 투자 후 저장된 돈: 97163590280\n",
      "해단 년도 투자하고 남은 돈 9716359028\n",
      "================================19=================================\n",
      "=====================start===========22=================================\n",
      "판매 금액: 79313421232\n",
      "다음 투자 후 저장된 돈: 89029780260\n",
      "해단 년도 투자하고 남은 돈 44514890130\n",
      "================================22=================================\n",
      "=====================start===========25=================================\n",
      "판매 금액: 46562277675\n",
      "다음 투자 후 저장된 돈: 91077167805\n",
      "해단 년도 투자하고 남은 돈 36430867120\n",
      "================================25=================================\n",
      "=====================start===========28=================================\n"
     ]
    },
    {
     "name": "stderr",
     "output_type": "stream",
     "text": [
      "C:\\Users\\user\\anaconda3\\lib\\site-packages\\pandas\\core\\frame.py:4441: SettingWithCopyWarning: \n",
      "A value is trying to be set on a copy of a slice from a DataFrame\n",
      "\n",
      "See the caveats in the documentation: https://pandas.pydata.org/pandas-docs/stable/user_guide/indexing.html#returning-a-view-versus-a-copy\n",
      "  return super().rename(\n",
      "C:\\Users\\user\\anaconda3\\lib\\site-packages\\pandas\\core\\frame.py:4441: SettingWithCopyWarning: \n",
      "A value is trying to be set on a copy of a slice from a DataFrame\n",
      "\n",
      "See the caveats in the documentation: https://pandas.pydata.org/pandas-docs/stable/user_guide/indexing.html#returning-a-view-versus-a-copy\n",
      "  return super().rename(\n"
     ]
    },
    {
     "name": "stdout",
     "output_type": "stream",
     "text": [
      "판매 금액: 59396133130\n",
      "다음 투자 후 저장된 돈: 95827000250\n",
      "해단 년도 투자하고 남은 돈 0\n",
      "================================28=================================\n",
      "=====================start===========31=================================\n",
      "판매 금액: 89661415195\n",
      "다음 투자 후 저장된 돈: 89661415195\n",
      "해단 년도 투자하고 남은 돈 62762990633\n",
      "================================31=================================\n",
      "=====================start===========34=================================\n"
     ]
    },
    {
     "name": "stderr",
     "output_type": "stream",
     "text": [
      "C:\\Users\\user\\anaconda3\\lib\\site-packages\\pandas\\core\\frame.py:4441: SettingWithCopyWarning: \n",
      "A value is trying to be set on a copy of a slice from a DataFrame\n",
      "\n",
      "See the caveats in the documentation: https://pandas.pydata.org/pandas-docs/stable/user_guide/indexing.html#returning-a-view-versus-a-copy\n",
      "  return super().rename(\n",
      "C:\\Users\\user\\anaconda3\\lib\\site-packages\\pandas\\core\\frame.py:4441: SettingWithCopyWarning: \n",
      "A value is trying to be set on a copy of a slice from a DataFrame\n",
      "\n",
      "See the caveats in the documentation: https://pandas.pydata.org/pandas-docs/stable/user_guide/indexing.html#returning-a-view-versus-a-copy\n",
      "  return super().rename(\n",
      "C:\\Users\\user\\anaconda3\\lib\\site-packages\\pandas\\core\\frame.py:4441: SettingWithCopyWarning: \n",
      "A value is trying to be set on a copy of a slice from a DataFrame\n",
      "\n",
      "See the caveats in the documentation: https://pandas.pydata.org/pandas-docs/stable/user_guide/indexing.html#returning-a-view-versus-a-copy\n",
      "  return super().rename(\n"
     ]
    },
    {
     "name": "stdout",
     "output_type": "stream",
     "text": [
      "판매 금액: 32719419897\n",
      "다음 투자 후 저장된 돈: 95482410530\n",
      "해단 년도 투자하고 남은 돈 47741205265\n",
      "================================34=================================\n",
      "=====================start===========37=================================\n",
      "판매 금액: 46563025895\n",
      "다음 투자 후 저장된 돈: 94304231160\n",
      "해단 년도 투자하고 남은 돈 9430423116\n",
      "================================37=================================\n",
      "=====================start===========40=================================\n"
     ]
    },
    {
     "name": "stderr",
     "output_type": "stream",
     "text": [
      "C:\\Users\\user\\anaconda3\\lib\\site-packages\\pandas\\core\\frame.py:4441: SettingWithCopyWarning: \n",
      "A value is trying to be set on a copy of a slice from a DataFrame\n",
      "\n",
      "See the caveats in the documentation: https://pandas.pydata.org/pandas-docs/stable/user_guide/indexing.html#returning-a-view-versus-a-copy\n",
      "  return super().rename(\n",
      "C:\\Users\\user\\anaconda3\\lib\\site-packages\\pandas\\core\\frame.py:4441: SettingWithCopyWarning: \n",
      "A value is trying to be set on a copy of a slice from a DataFrame\n",
      "\n",
      "See the caveats in the documentation: https://pandas.pydata.org/pandas-docs/stable/user_guide/indexing.html#returning-a-view-versus-a-copy\n",
      "  return super().rename(\n",
      "C:\\Users\\user\\anaconda3\\lib\\site-packages\\pandas\\core\\frame.py:4441: SettingWithCopyWarning: \n",
      "A value is trying to be set on a copy of a slice from a DataFrame\n",
      "\n",
      "See the caveats in the documentation: https://pandas.pydata.org/pandas-docs/stable/user_guide/indexing.html#returning-a-view-versus-a-copy\n",
      "  return super().rename(\n"
     ]
    },
    {
     "name": "stdout",
     "output_type": "stream",
     "text": [
      "판매 금액: 101018179069\n",
      "다음 투자 후 저장된 돈: 110448602185\n",
      "해단 년도 투자하고 남은 돈 77314021526\n",
      "================================40=================================\n",
      "=====================start===========43=================================\n",
      "판매 금액: 35268738184\n",
      "다음 투자 후 저장된 돈: 112582759710\n",
      "해단 년도 투자하고 남은 돈 0\n",
      "================================43=================================\n",
      "=====================start===========46=================================\n",
      "판매 금액: 121831387900\n",
      "다음 투자 후 저장된 돈: 121831387900\n",
      "해단 년도 투자하고 남은 돈 24366277580\n",
      "================================46=================================\n",
      "=====================start===========49=================================\n"
     ]
    },
    {
     "name": "stderr",
     "output_type": "stream",
     "text": [
      "C:\\Users\\user\\anaconda3\\lib\\site-packages\\pandas\\core\\frame.py:4441: SettingWithCopyWarning: \n",
      "A value is trying to be set on a copy of a slice from a DataFrame\n",
      "\n",
      "See the caveats in the documentation: https://pandas.pydata.org/pandas-docs/stable/user_guide/indexing.html#returning-a-view-versus-a-copy\n",
      "  return super().rename(\n",
      "C:\\Users\\user\\anaconda3\\lib\\site-packages\\pandas\\core\\frame.py:4441: SettingWithCopyWarning: \n",
      "A value is trying to be set on a copy of a slice from a DataFrame\n",
      "\n",
      "See the caveats in the documentation: https://pandas.pydata.org/pandas-docs/stable/user_guide/indexing.html#returning-a-view-versus-a-copy\n",
      "  return super().rename(\n",
      "C:\\Users\\user\\anaconda3\\lib\\site-packages\\pandas\\core\\frame.py:4441: SettingWithCopyWarning: \n",
      "A value is trying to be set on a copy of a slice from a DataFrame\n",
      "\n",
      "See the caveats in the documentation: https://pandas.pydata.org/pandas-docs/stable/user_guide/indexing.html#returning-a-view-versus-a-copy\n",
      "  return super().rename(\n"
     ]
    },
    {
     "name": "stdout",
     "output_type": "stream",
     "text": [
      "판매 금액: 105620604125\n",
      "다음 투자 후 저장된 돈: 129986881705\n",
      "해단 년도 투자하고 남은 돈 25997376340\n",
      "================================49=================================\n",
      "=====================start===========52=================================\n",
      "판매 금액: 150329326040\n",
      "다음 투자 후 저장된 돈: 176326702380\n",
      "해단 년도 투자하고 남은 돈 52898010714\n",
      "================================52=================================\n",
      "=====================start===========55=================================\n",
      "판매 금액: 144187489016\n",
      "다음 투자 후 저장된 돈: 197085499730\n",
      "해단 년도 투자하고 남은 돈 78834199892\n",
      "================================55=================================\n",
      "=====================start===========58=================================\n"
     ]
    },
    {
     "name": "stderr",
     "output_type": "stream",
     "text": [
      "C:\\Users\\user\\anaconda3\\lib\\site-packages\\pandas\\core\\frame.py:4441: SettingWithCopyWarning: \n",
      "A value is trying to be set on a copy of a slice from a DataFrame\n",
      "\n",
      "See the caveats in the documentation: https://pandas.pydata.org/pandas-docs/stable/user_guide/indexing.html#returning-a-view-versus-a-copy\n",
      "  return super().rename(\n",
      "C:\\Users\\user\\anaconda3\\lib\\site-packages\\pandas\\core\\frame.py:4441: SettingWithCopyWarning: \n",
      "A value is trying to be set on a copy of a slice from a DataFrame\n",
      "\n",
      "See the caveats in the documentation: https://pandas.pydata.org/pandas-docs/stable/user_guide/indexing.html#returning-a-view-versus-a-copy\n",
      "  return super().rename(\n"
     ]
    },
    {
     "name": "stdout",
     "output_type": "stream",
     "text": [
      "판매 금액: 179058759495\n",
      "다음 투자 후 저장된 돈: 257892959387\n",
      "해단 년도 투자하고 남은 돈 103157183752\n",
      "================================58=================================\n",
      "=====================start===========61=================================\n",
      "판매 금액: 143333588261\n",
      "다음 투자 후 저장된 돈: 246490772013\n",
      "해단 년도 투자하고 남은 돈 98596308804\n",
      "================================61=================================\n",
      "=====================start===========64=================================\n"
     ]
    },
    {
     "name": "stderr",
     "output_type": "stream",
     "text": [
      "C:\\Users\\user\\anaconda3\\lib\\site-packages\\pandas\\core\\frame.py:4441: SettingWithCopyWarning: \n",
      "A value is trying to be set on a copy of a slice from a DataFrame\n",
      "\n",
      "See the caveats in the documentation: https://pandas.pydata.org/pandas-docs/stable/user_guide/indexing.html#returning-a-view-versus-a-copy\n",
      "  return super().rename(\n",
      "C:\\Users\\user\\anaconda3\\lib\\site-packages\\pandas\\core\\frame.py:4441: SettingWithCopyWarning: \n",
      "A value is trying to be set on a copy of a slice from a DataFrame\n",
      "\n",
      "See the caveats in the documentation: https://pandas.pydata.org/pandas-docs/stable/user_guide/indexing.html#returning-a-view-versus-a-copy\n",
      "  return super().rename(\n",
      "C:\\Users\\user\\anaconda3\\lib\\site-packages\\pandas\\core\\frame.py:4441: SettingWithCopyWarning: \n",
      "A value is trying to be set on a copy of a slice from a DataFrame\n",
      "\n",
      "See the caveats in the documentation: https://pandas.pydata.org/pandas-docs/stable/user_guide/indexing.html#returning-a-view-versus-a-copy\n",
      "  return super().rename(\n"
     ]
    },
    {
     "name": "stdout",
     "output_type": "stream",
     "text": [
      "판매 금액: 225506907046\n",
      "다음 투자 후 저장된 돈: 324103215850\n",
      "해단 년도 투자하고 남은 돈 129641286340\n",
      "================================64=================================\n",
      "=====================start===========67=================================\n",
      "판매 금액: 177242351155\n",
      "다음 투자 후 저장된 돈: 306883637495\n",
      "해단 년도 투자하고 남은 돈 122753454996\n",
      "================================67=================================\n",
      "=====================start===========70=================================\n",
      "판매 금액: 181473221004\n",
      "다음 투자 후 저장된 돈: 304226676000\n",
      "해단 년도 투자하고 남은 돈 121690670400\n",
      "================================70=================================\n",
      "=====================start===========73=================================\n",
      "681\n",
      "판매 금액: 173348430990\n",
      "다음 투자 후 저장된 돈: 295039101390\n",
      "해단 년도 투자하고 남은 돈 206527370973\n",
      "================================73=================================\n",
      "=====================start===========76=================================\n",
      "684\n",
      "판매 금액: 104115981087\n",
      "다음 투자 후 저장된 돈: 310643352060\n",
      "해단 년도 투자하고 남은 돈 279579016854\n",
      "================================76=================================\n",
      "=====================start===========79=================================\n",
      "686\n"
     ]
    },
    {
     "name": "stderr",
     "output_type": "stream",
     "text": [
      "C:\\Users\\user\\anaconda3\\lib\\site-packages\\pandas\\core\\frame.py:4441: SettingWithCopyWarning: \n",
      "A value is trying to be set on a copy of a slice from a DataFrame\n",
      "\n",
      "See the caveats in the documentation: https://pandas.pydata.org/pandas-docs/stable/user_guide/indexing.html#returning-a-view-versus-a-copy\n",
      "  return super().rename(\n",
      "C:\\Users\\user\\anaconda3\\lib\\site-packages\\pandas\\core\\frame.py:4441: SettingWithCopyWarning: \n",
      "A value is trying to be set on a copy of a slice from a DataFrame\n",
      "\n",
      "See the caveats in the documentation: https://pandas.pydata.org/pandas-docs/stable/user_guide/indexing.html#returning-a-view-versus-a-copy\n",
      "  return super().rename(\n",
      "C:\\Users\\user\\anaconda3\\lib\\site-packages\\pandas\\core\\frame.py:4441: SettingWithCopyWarning: \n",
      "A value is trying to be set on a copy of a slice from a DataFrame\n",
      "\n",
      "See the caveats in the documentation: https://pandas.pydata.org/pandas-docs/stable/user_guide/indexing.html#returning-a-view-versus-a-copy\n",
      "  return super().rename(\n"
     ]
    },
    {
     "name": "stdout",
     "output_type": "stream",
     "text": [
      "판매 금액: 28561670406\n",
      "다음 투자 후 저장된 돈: 308140687260\n",
      "해단 년도 투자하고 남은 돈 246512549808\n",
      "================================79=================================\n",
      "=====================start===========82=================================\n",
      "677\n",
      "판매 금액: 70445726962\n",
      "다음 투자 후 저장된 돈: 316958276770\n",
      "해단 년도 투자하고 남은 돈 190174966062\n",
      "================================82=================================\n",
      "=====================start===========85=================================\n",
      "677\n",
      "판매 금액: 140428271028\n",
      "다음 투자 후 저장된 돈: 330603237090\n",
      "해단 년도 투자하고 남은 돈 198361942254\n",
      "================================85=================================\n",
      "=====================start===========88=================================\n",
      "678\n"
     ]
    },
    {
     "name": "stderr",
     "output_type": "stream",
     "text": [
      "C:\\Users\\user\\anaconda3\\lib\\site-packages\\pandas\\core\\frame.py:4441: SettingWithCopyWarning: \n",
      "A value is trying to be set on a copy of a slice from a DataFrame\n",
      "\n",
      "See the caveats in the documentation: https://pandas.pydata.org/pandas-docs/stable/user_guide/indexing.html#returning-a-view-versus-a-copy\n",
      "  return super().rename(\n",
      "C:\\Users\\user\\anaconda3\\lib\\site-packages\\pandas\\core\\frame.py:4441: SettingWithCopyWarning: \n",
      "A value is trying to be set on a copy of a slice from a DataFrame\n",
      "\n",
      "See the caveats in the documentation: https://pandas.pydata.org/pandas-docs/stable/user_guide/indexing.html#returning-a-view-versus-a-copy\n",
      "  return super().rename(\n",
      "C:\\Users\\user\\anaconda3\\lib\\site-packages\\pandas\\core\\frame.py:4441: SettingWithCopyWarning: \n",
      "A value is trying to be set on a copy of a slice from a DataFrame\n",
      "\n",
      "See the caveats in the documentation: https://pandas.pydata.org/pandas-docs/stable/user_guide/indexing.html#returning-a-view-versus-a-copy\n",
      "  return super().rename(\n"
     ]
    },
    {
     "name": "stdout",
     "output_type": "stream",
     "text": [
      "판매 금액: 145956267236\n",
      "다음 투자 후 저장된 돈: 344318209490\n",
      "해단 년도 투자하고 남은 돈 241022746643\n",
      "================================88=================================\n",
      "=====================start===========91=================================\n",
      "679\n",
      "판매 금액: 124136307847\n",
      "다음 투자 후 저장된 돈: 365159054490\n",
      "해단 년도 투자하고 남은 돈 219095432694\n",
      "================================91=================================\n",
      "=====================start===========94=================================\n",
      "674\n",
      "판매 금액: 134352776196\n",
      "다음 투자 후 저장된 돈: 353448208890\n",
      "해단 년도 투자하고 남은 돈 176724104445\n",
      "================================94=================================\n",
      "=====================start===========97=================================\n",
      "674\n"
     ]
    },
    {
     "name": "stderr",
     "output_type": "stream",
     "text": [
      "C:\\Users\\user\\anaconda3\\lib\\site-packages\\pandas\\core\\frame.py:4441: SettingWithCopyWarning: \n",
      "A value is trying to be set on a copy of a slice from a DataFrame\n",
      "\n",
      "See the caveats in the documentation: https://pandas.pydata.org/pandas-docs/stable/user_guide/indexing.html#returning-a-view-versus-a-copy\n",
      "  return super().rename(\n",
      "C:\\Users\\user\\anaconda3\\lib\\site-packages\\pandas\\core\\frame.py:4441: SettingWithCopyWarning: \n",
      "A value is trying to be set on a copy of a slice from a DataFrame\n",
      "\n",
      "See the caveats in the documentation: https://pandas.pydata.org/pandas-docs/stable/user_guide/indexing.html#returning-a-view-versus-a-copy\n",
      "  return super().rename(\n",
      "C:\\Users\\user\\anaconda3\\lib\\site-packages\\pandas\\core\\frame.py:4441: SettingWithCopyWarning: \n",
      "A value is trying to be set on a copy of a slice from a DataFrame\n",
      "\n",
      "See the caveats in the documentation: https://pandas.pydata.org/pandas-docs/stable/user_guide/indexing.html#returning-a-view-versus-a-copy\n",
      "  return super().rename(\n"
     ]
    },
    {
     "name": "stdout",
     "output_type": "stream",
     "text": [
      "판매 금액: 181522204045\n",
      "다음 투자 후 저장된 돈: 358246308490\n",
      "해단 년도 투자하고 남은 돈 179123154245\n",
      "================================97=================================\n",
      "=====================start===========100=================================\n",
      "678\n",
      "판매 금액: 183361719245\n",
      "다음 투자 후 저장된 돈: 362484873490\n",
      "해단 년도 투자하고 남은 돈 181242436745\n",
      "================================100=================================\n",
      "=====================start===========103=================================\n",
      "678\n",
      "판매 금액: 171227559795\n",
      "다음 투자 후 저장된 돈: 352469996540\n",
      "해단 년도 투자하고 남은 돈 176234998270\n",
      "================================103=================================\n",
      "=====================start===========106=================================\n",
      "678\n"
     ]
    },
    {
     "name": "stderr",
     "output_type": "stream",
     "text": [
      "C:\\Users\\user\\anaconda3\\lib\\site-packages\\pandas\\core\\frame.py:4441: SettingWithCopyWarning: \n",
      "A value is trying to be set on a copy of a slice from a DataFrame\n",
      "\n",
      "See the caveats in the documentation: https://pandas.pydata.org/pandas-docs/stable/user_guide/indexing.html#returning-a-view-versus-a-copy\n",
      "  return super().rename(\n",
      "C:\\Users\\user\\anaconda3\\lib\\site-packages\\pandas\\core\\frame.py:4441: SettingWithCopyWarning: \n",
      "A value is trying to be set on a copy of a slice from a DataFrame\n",
      "\n",
      "See the caveats in the documentation: https://pandas.pydata.org/pandas-docs/stable/user_guide/indexing.html#returning-a-view-versus-a-copy\n",
      "  return super().rename(\n",
      "C:\\Users\\user\\anaconda3\\lib\\site-packages\\pandas\\core\\frame.py:4441: SettingWithCopyWarning: \n",
      "A value is trying to be set on a copy of a slice from a DataFrame\n",
      "\n",
      "See the caveats in the documentation: https://pandas.pydata.org/pandas-docs/stable/user_guide/indexing.html#returning-a-view-versus-a-copy\n",
      "  return super().rename(\n"
     ]
    },
    {
     "name": "stdout",
     "output_type": "stream",
     "text": [
      "판매 금액: 177886948720\n",
      "다음 투자 후 저장된 돈: 354121946990\n",
      "해단 년도 투자하고 남은 돈 283297557592\n",
      "================================106=================================\n",
      "=====================start===========109=================================\n",
      "674\n",
      "판매 금액: 55585584298\n",
      "다음 투자 후 저장된 돈: 338883141890\n",
      "해단 년도 투자하고 남은 돈 203329885134\n",
      "================================109=================================\n",
      "=====================start===========112=================================\n",
      "674\n"
     ]
    },
    {
     "name": "stderr",
     "output_type": "stream",
     "text": [
      "C:\\Users\\user\\anaconda3\\lib\\site-packages\\pandas\\core\\frame.py:4441: SettingWithCopyWarning: \n",
      "A value is trying to be set on a copy of a slice from a DataFrame\n",
      "\n",
      "See the caveats in the documentation: https://pandas.pydata.org/pandas-docs/stable/user_guide/indexing.html#returning-a-view-versus-a-copy\n",
      "  return super().rename(\n",
      "C:\\Users\\user\\anaconda3\\lib\\site-packages\\pandas\\core\\frame.py:4441: SettingWithCopyWarning: \n",
      "A value is trying to be set on a copy of a slice from a DataFrame\n",
      "\n",
      "See the caveats in the documentation: https://pandas.pydata.org/pandas-docs/stable/user_guide/indexing.html#returning-a-view-versus-a-copy\n",
      "  return super().rename(\n",
      "C:\\Users\\user\\anaconda3\\lib\\site-packages\\pandas\\core\\frame.py:4441: SettingWithCopyWarning: \n",
      "A value is trying to be set on a copy of a slice from a DataFrame\n",
      "\n",
      "See the caveats in the documentation: https://pandas.pydata.org/pandas-docs/stable/user_guide/indexing.html#returning-a-view-versus-a-copy\n",
      "  return super().rename(\n"
     ]
    },
    {
     "name": "stdout",
     "output_type": "stream",
     "text": [
      "판매 금액: 135089292806\n",
      "다음 투자 후 저장된 돈: 338419177940\n",
      "================================112=================================\n",
      "=====================start===========115=================================\n",
      "674\n",
      "판매 금액: 0\n",
      "다음 투자 후 저장된 돈: 203329885134\n",
      "해단 년도 투자하고 남은 돈 182996896617\n",
      "================================115=================================\n",
      "=====================start===========118=================================\n",
      "674\n",
      "판매 금액: 19157013433\n",
      "다음 투자 후 저장된 돈: 202153910050\n",
      "해단 년도 투자하고 남은 돈 101076955025\n",
      "================================118=================================\n",
      "=====================start===========121=================================\n",
      "672\n",
      "판매 금액: 95139794915\n",
      "다음 투자 후 저장된 돈: 196216749940\n",
      "해단 년도 투자하고 남은 돈 117730049964\n",
      "================================121=================================\n"
     ]
    },
    {
     "name": "stderr",
     "output_type": "stream",
     "text": [
      "C:\\Users\\user\\anaconda3\\lib\\site-packages\\pandas\\core\\frame.py:4441: SettingWithCopyWarning: \n",
      "A value is trying to be set on a copy of a slice from a DataFrame\n",
      "\n",
      "See the caveats in the documentation: https://pandas.pydata.org/pandas-docs/stable/user_guide/indexing.html#returning-a-view-versus-a-copy\n",
      "  return super().rename(\n",
      "C:\\Users\\user\\anaconda3\\lib\\site-packages\\pandas\\core\\frame.py:4441: SettingWithCopyWarning: \n",
      "A value is trying to be set on a copy of a slice from a DataFrame\n",
      "\n",
      "See the caveats in the documentation: https://pandas.pydata.org/pandas-docs/stable/user_guide/indexing.html#returning-a-view-versus-a-copy\n",
      "  return super().rename(\n"
     ]
    }
   ],
   "source": [
    "for j in range(1,122, 3):\n",
    "    print('=====================start==========='+ str(j) + '=================================')\n",
    "    quant(j) \n",
    "    k += 1\n",
    "    if j >= 73:\n",
    "        n += 1\n",
    "    print('================================'+ str(j) + '=================================')"
   ]
  },
  {
   "cell_type": "code",
   "execution_count": null,
   "id": "e4c7cca9",
   "metadata": {},
   "outputs": [],
   "source": [
    "# 파일 저장\n",
    "final_profit.to_csv(\"please.csv\", encoding = \"UTF-8\")"
   ]
  },
  {
   "cell_type": "markdown",
   "id": "4279cba9",
   "metadata": {},
   "source": [
    "# 그래프 그리기"
   ]
  },
  {
   "cell_type": "markdown",
   "id": "01e2a086",
   "metadata": {},
   "source": [
    "### 라이브러리 불러오기"
   ]
  },
  {
   "cell_type": "code",
   "execution_count": 23,
   "id": "3506fc15",
   "metadata": {},
   "outputs": [],
   "source": [
    "import matplotlib.pyplot as plt"
   ]
  },
  {
   "cell_type": "markdown",
   "id": "f459acc3",
   "metadata": {},
   "source": [
    "### 그래프 생성을 위한 데이터 프레임 제작"
   ]
  },
  {
   "cell_type": "code",
   "execution_count": 24,
   "id": "34fa182f",
   "metadata": {},
   "outputs": [],
   "source": [
    "glist = pd.DataFrame(glist)"
   ]
  },
  {
   "cell_type": "markdown",
   "id": "11b26fb6",
   "metadata": {},
   "source": [
    "### 그래프 생성"
   ]
  },
  {
   "cell_type": "code",
   "execution_count": 25,
   "id": "32f40176",
   "metadata": {},
   "outputs": [
    {
     "data": {
      "text/plain": [
       "[<matplotlib.lines.Line2D at 0x1f6eb032e50>]"
      ]
     },
     "execution_count": 25,
     "metadata": {},
     "output_type": "execute_result"
    },
    {
     "data": {
      "image/png": "[encoded data removed]",
      "text/plain": [
       "<Figure size 432x288 with 1 Axes>"
      ]
     },
     "metadata": {
      "needs_background": "light"
     },
     "output_type": "display_data"
    }
   ],
   "source": [
    "plt.xticks([0, 5, 10, 15, 20, 25, 30, 35, 40], ['2009-12','2011-03','2012-06','2013-09','2014-12','2016-03','2017-06',\n",
    "                                                '2018-09','2019-12'], rotation = 15)\n",
    "plt.title(\"profit\")\n",
    "plt.plot(glist)"
   ]
  }
 ],
 "metadata": {
  "kernelspec": {
   "display_name": "Python 3",
   "language": "python",
   "name": "python3"
  },
  "language_info": {
   "codemirror_mode": {
    "name": "ipython",
    "version": 3
   },
   "file_extension": ".py",
   "mimetype": "text/x-python",
   "name": "python",
   "nbconvert_exporter": "python",
   "pygments_lexer": "ipython3",
   "version": "3.8.8"
  }
 },
 "nbformat": 4,
 "nbformat_minor": 5
}
